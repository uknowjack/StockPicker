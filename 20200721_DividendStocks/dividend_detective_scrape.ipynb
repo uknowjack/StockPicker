{
 "cells": [
  {
   "cell_type": "code",
   "execution_count": 1,
   "metadata": {
    "ExecuteTime": {
     "end_time": "2020-09-10T23:24:37.988748Z",
     "start_time": "2020-09-10T23:24:36.873894Z"
    }
   },
   "outputs": [],
   "source": [
    "import pickle\n",
    "\n",
    "import pandas as pd\n",
    "import numpy as np\n",
    "\n",
    "from selenium import webdriver\n",
    "\n",
    "from selenium.webdriver.common.keys import Keys\n",
    "\n",
    "from selenium.webdriver.support.ui import WebDriverWait\n",
    "from selenium.webdriver.common.by import By\n",
    "from selenium.webdriver.support import expected_conditions\n",
    "\n",
    "import time\n",
    "import random\n",
    "import os"
   ]
  },
  {
   "cell_type": "code",
   "execution_count": 2,
   "metadata": {
    "ExecuteTime": {
     "end_time": "2020-09-10T23:24:38.003641Z",
     "start_time": "2020-09-10T23:24:37.993197Z"
    }
   },
   "outputs": [],
   "source": [
    "def set_ff_preferences():\n",
    "    profile = webdriver.FirefoxProfile()\n",
    "    profile.set_preference('browser.download.folderList', 2) # custom location\n",
    "    profile.set_preference('browser.download.dir', (os.getcwd()+'/data/Cash_Flows'))\n",
    "    profile.set_preference('browser.download.manager.showWhenStarting', False)\n",
    "    profile.set_preference('browser.helperApps.neverAsk.saveToDisk', \"application/csv, text/csv\")\n",
    "    return profile\n",
    "\n",
    "def create_empty_ff_driver():\n",
    "    profile = set_ff_preferences()\n",
    "    a_driver = webdriver.Firefox(firefox_profile=profile)\n",
    "    return a_driver\n",
    "\n",
    "def create_driver_opening_url():\n",
    "    a_driver = create_empty_ff_driver()\n",
    "    return a_driver\n",
    "\n",
    "def clean_from_text(text):\n",
    "#     cleaned_text = text.replace(\",\",\"\").strip()\n",
    "    cleaned_text = text.strip()\n",
    "    return cleaned_text"
   ]
  },
  {
   "cell_type": "code",
   "execution_count": 3,
   "metadata": {
    "ExecuteTime": {
     "end_time": "2020-09-10T23:24:38.026915Z",
     "start_time": "2020-09-10T23:24:38.009709Z"
    }
   },
   "outputs": [],
   "source": [
    "def get_flatdata():\n",
    "    urls = {'https://dividenddetective.com/big_dividend_list.htm': '/html/body/div[2]/div/div[1]/div[2]/div[9]', \n",
    "        'https://dividenddetective.com/big_dividend_list2.htm': '/html/body/div[2]/div/div[1]/div/div[9]', \n",
    "        'https://dividenddetective.com/big_dividend_list3.htm': '/html/body/div[2]/div/div[1]/div/div[6]', \n",
    "        'https://dividenddetective.com/big_dividend_list4.htm': '/html/body/div[2]/div/div[1]/div/div[8]'\n",
    "       }\n",
    "\n",
    "    flatdata = []\n",
    "\n",
    "    a_driver = create_driver_opening_url()\n",
    "    \n",
    "    \n",
    "    for key in urls:\n",
    "    \n",
    "        a_driver.get(key)\n",
    "\n",
    "        tableDiv = WebDriverWait(a_driver, 10).until(\n",
    "            expected_conditions.visibility_of_element_located(\n",
    "            (By.XPATH, urls[key])))\n",
    "\n",
    "        page_data = tableDiv.text.split('\\n')\n",
    "        flatdata = flatdata + page_data\n",
    "        \n",
    "    a_driver.close()\n",
    "\n",
    "    return flatdata"
   ]
  },
  {
   "cell_type": "code",
   "execution_count": 17,
   "metadata": {
    "ExecuteTime": {
     "end_time": "2020-09-10T23:24:38.051129Z",
     "start_time": "2020-09-10T23:24:38.039265Z"
    }
   },
   "outputs": [],
   "source": [
    "def format_data(flat_data, columns=4):\n",
    "    \n",
    "    # get rid of header columns of raw data\n",
    "    for i in ['Ticker', 'Company Name', ' Annual', 'Div', 'Dividend', 'Yield']:\n",
    "        flat_data.remove(i)\n",
    "    \n",
    "    num_dividend_stocks = int(len(flat_data)/columns)\n",
    "    \n",
    "    square_data = np.array(flat_data).reshape(num_dividend_stocks,4)\n",
    "    df = pd.DataFrame(square_data)\n",
    "    df.columns = ['ticker','name','annual_div','div_yield']\n",
    "    \n",
    "    df['annual_div']=df['annual_div'].str[1:]\n",
    "    df['div_yield']=df['div_yield'].str[:-1]\n",
    "    \n",
    "    df['annual_div'] = df['annual_div'].astype(float)\n",
    "    df['div_yield'] = df['div_yield'].astype(float)\n",
    "    return df"
   ]
  },
  {
   "cell_type": "code",
   "execution_count": 18,
   "metadata": {
    "ExecuteTime": {
     "end_time": "2020-09-10T23:24:38.069436Z",
     "start_time": "2020-09-10T23:24:38.061308Z"
    }
   },
   "outputs": [],
   "source": [
    "def get_data():\n",
    "    return format_data(get_flatdata())"
   ]
  },
  {
   "cell_type": "code",
   "execution_count": null,
   "metadata": {
    "ExecuteTime": {
     "end_time": "2020-09-10T23:25:17.164078Z",
     "start_time": "2020-09-10T23:24:59.729781Z"
    }
   },
   "outputs": [],
   "source": []
  },
  {
   "cell_type": "code",
   "execution_count": 19,
   "metadata": {
    "ExecuteTime": {
     "end_time": "2020-09-10T23:28:48.733494Z",
     "start_time": "2020-09-10T23:28:48.703856Z"
    }
   },
   "outputs": [
    {
     "data": {
      "text/html": [
       "<div>\n",
       "<style scoped>\n",
       "    .dataframe tbody tr th:only-of-type {\n",
       "        vertical-align: middle;\n",
       "    }\n",
       "\n",
       "    .dataframe tbody tr th {\n",
       "        vertical-align: top;\n",
       "    }\n",
       "\n",
       "    .dataframe thead th {\n",
       "        text-align: right;\n",
       "    }\n",
       "</style>\n",
       "<table border=\"1\" class=\"dataframe\">\n",
       "  <thead>\n",
       "    <tr style=\"text-align: right;\">\n",
       "      <th></th>\n",
       "      <th>ticker</th>\n",
       "      <th>name</th>\n",
       "      <th>annual_div</th>\n",
       "      <th>div_yield</th>\n",
       "    </tr>\n",
       "  </thead>\n",
       "  <tbody>\n",
       "    <tr>\n",
       "      <th>0</th>\n",
       "      <td>SRCE</td>\n",
       "      <td>1st Source</td>\n",
       "      <td>1.16</td>\n",
       "      <td>2.7</td>\n",
       "    </tr>\n",
       "    <tr>\n",
       "      <th>1</th>\n",
       "      <td>MMM</td>\n",
       "      <td>3M</td>\n",
       "      <td>5.92</td>\n",
       "      <td>3.3</td>\n",
       "    </tr>\n",
       "    <tr>\n",
       "      <th>2</th>\n",
       "      <td>ABBV</td>\n",
       "      <td>AbbVie</td>\n",
       "      <td>5.20</td>\n",
       "      <td>5.0</td>\n",
       "    </tr>\n",
       "    <tr>\n",
       "      <th>3</th>\n",
       "      <td>ACCO</td>\n",
       "      <td>ACCO Brands</td>\n",
       "      <td>0.26</td>\n",
       "      <td>2.9</td>\n",
       "    </tr>\n",
       "    <tr>\n",
       "      <th>4</th>\n",
       "      <td>ADTN</td>\n",
       "      <td>Adtran</td>\n",
       "      <td>0.36</td>\n",
       "      <td>2.2</td>\n",
       "    </tr>\n",
       "    <tr>\n",
       "      <th>...</th>\n",
       "      <td>...</td>\n",
       "      <td>...</td>\n",
       "      <td>...</td>\n",
       "      <td>...</td>\n",
       "    </tr>\n",
       "    <tr>\n",
       "      <th>572</th>\n",
       "      <td>WETF</td>\n",
       "      <td>WisdomTree Inv</td>\n",
       "      <td>0.12</td>\n",
       "      <td>2.1</td>\n",
       "    </tr>\n",
       "    <tr>\n",
       "      <th>573</th>\n",
       "      <td>WYND</td>\n",
       "      <td>Wyndham Destinations</td>\n",
       "      <td>1.20</td>\n",
       "      <td>2.3</td>\n",
       "    </tr>\n",
       "    <tr>\n",
       "      <th>574</th>\n",
       "      <td>XEL</td>\n",
       "      <td>Xcel Energy</td>\n",
       "      <td>1.72</td>\n",
       "      <td>2.8</td>\n",
       "    </tr>\n",
       "    <tr>\n",
       "      <th>575</th>\n",
       "      <td>XRX</td>\n",
       "      <td>Xerox Holdings</td>\n",
       "      <td>1.00</td>\n",
       "      <td>4.2</td>\n",
       "    </tr>\n",
       "    <tr>\n",
       "      <th>576</th>\n",
       "      <td>ZION</td>\n",
       "      <td>Zions Bancorp</td>\n",
       "      <td>1.36</td>\n",
       "      <td>2.7</td>\n",
       "    </tr>\n",
       "  </tbody>\n",
       "</table>\n",
       "<p>577 rows × 4 columns</p>\n",
       "</div>"
      ],
      "text/plain": [
       "    ticker                  name  annual_div  div_yield\n",
       "0     SRCE            1st Source        1.16        2.7\n",
       "1      MMM                    3M        5.92        3.3\n",
       "2     ABBV                AbbVie        5.20        5.0\n",
       "3     ACCO           ACCO Brands        0.26        2.9\n",
       "4     ADTN                Adtran        0.36        2.2\n",
       "..     ...                   ...         ...        ...\n",
       "572   WETF        WisdomTree Inv        0.12        2.1\n",
       "573   WYND  Wyndham Destinations        1.20        2.3\n",
       "574    XEL           Xcel Energy        1.72        2.8\n",
       "575    XRX        Xerox Holdings        1.00        4.2\n",
       "576   ZION         Zions Bancorp        1.36        2.7\n",
       "\n",
       "[577 rows x 4 columns]"
      ]
     },
     "execution_count": 19,
     "metadata": {},
     "output_type": "execute_result"
    }
   ],
   "source": []
  },
  {
   "cell_type": "code",
   "execution_count": null,
   "metadata": {},
   "outputs": [],
   "source": []
  }
 ],
 "metadata": {
  "kernelspec": {
   "display_name": "Python 3",
   "language": "python",
   "name": "python3"
  },
  "language_info": {
   "codemirror_mode": {
    "name": "ipython",
    "version": 3
   },
   "file_extension": ".py",
   "mimetype": "text/x-python",
   "name": "python",
   "nbconvert_exporter": "python",
   "pygments_lexer": "ipython3",
   "version": "3.8.5"
  }
 },
 "nbformat": 4,
 "nbformat_minor": 4
}
