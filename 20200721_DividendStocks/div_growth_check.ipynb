{
 "cells": [
  {
   "cell_type": "code",
   "execution_count": 1,
   "metadata": {
    "ExecuteTime": {
     "end_time": "2020-09-12T17:53:41.133180Z",
     "start_time": "2020-09-12T17:53:40.112902Z"
    }
   },
   "outputs": [
    {
     "name": "stdout",
     "output_type": "stream",
     "text": [
      "importing Jupyter notebook from dividend_detective_scrape.ipynb\n"
     ]
    }
   ],
   "source": [
    "import pandas as pd\n",
    "import numpy as np\n",
    "import import_ipynb\n",
    "import dividend_detective_scrape\n",
    "\n",
    "import yfinance as yf\n",
    "\n",
    "import datetime as dt\n",
    "\n",
    "from datetime import datetime"
   ]
  },
  {
   "cell_type": "code",
   "execution_count": 2,
   "metadata": {
    "ExecuteTime": {
     "end_time": "2020-09-12T17:53:41.142550Z",
     "start_time": "2020-09-12T17:53:41.136354Z"
    }
   },
   "outputs": [],
   "source": [
    "def trim_div_data(stockObj):\n",
    "    actns = stockObj.actions\n",
    "    for i,r in actns.iterrows():\n",
    "        if r['Dividends'] > 0:\n",
    "            first_div_date = i\n",
    "            break\n",
    "\n",
    "    actns = actns.loc[first_div_date:]\n",
    "    return actns, first_div_date"
   ]
  },
  {
   "cell_type": "code",
   "execution_count": 3,
   "metadata": {
    "ExecuteTime": {
     "end_time": "2020-09-12T17:53:41.158936Z",
     "start_time": "2020-09-12T17:53:41.145393Z"
    }
   },
   "outputs": [],
   "source": [
    "def add_div_data_details(actns, first_div_date):\n",
    "    actns['days_since_first_div'] = (actns.index-first_div_date).days\n",
    "    actns['year'] = actns.index.year\n",
    "    \n",
    "    h = []\n",
    "    l = []\n",
    "    for i,r in actns.iterrows():\n",
    "        prices = stockObj.history(start=i,end = i+pd.DateOffset(1)).iloc[0]\n",
    "        h.append(prices['High'])\n",
    "        l.append(prices['Low'])\n",
    "\n",
    "    actns['Stock_High'] = h\n",
    "    actns['Stock_Low'] = l\n",
    "    \n",
    "    actns['day_div_yield'] = actns['Dividends']/actns['Stock_High']\n",
    "    return actns"
   ]
  },
  {
   "cell_type": "code",
   "execution_count": 4,
   "metadata": {
    "ExecuteTime": {
     "end_time": "2020-09-12T17:53:41.178502Z",
     "start_time": "2020-09-12T17:53:41.167215Z"
    }
   },
   "outputs": [],
   "source": [
    "def get_ind_div_data(stockObj):\n",
    "    df, first_div_date = trim_div_data(stockObj)\n",
    "    return add_div_data_details(df, first_div_date)"
   ]
  },
  {
   "cell_type": "code",
   "execution_count": 5,
   "metadata": {
    "ExecuteTime": {
     "end_time": "2020-09-12T17:53:41.193997Z",
     "start_time": "2020-09-12T17:53:41.183545Z"
    }
   },
   "outputs": [],
   "source": [
    "def get_div_consistency_score(stockObj):\n",
    "    \n",
    "    df = stockObj.actions\n",
    "    df['year'] = df.index.year\n",
    "    df = df[df['Dividends']>0]\n",
    "    df = df.drop(columns=['Stock Splits'])\n",
    "    \n",
    "    ann_df = df.groupby(['year']).agg(\n",
    "        {'Dividends': np.sum}).rename(columns=\n",
    "        {'Dividends':'dividends'})\n",
    "    start_year = ann_df.index[0]\n",
    "    end_year = ann_df.index[len(ann_df)-1]+1\n",
    "    ann_df = ann_df.reindex(list(range(start_year,end_year)), fill_value=0)\n",
    "    \n",
    "    consistancy_coeff = [1/(2**(x+1)) for x in range(len(ann_df))][::-1]\n",
    "    year_progress = datetime.now().timetuple().tm_yday/365\n",
    "    consistancy_coeff[-1] = consistancy_coeff[-1]*year_progress\n",
    "    \n",
    "    ann_df['div_consistency_score'] = consistancy_coeff\n",
    "    \n",
    "    highest_div = ann_df.iloc[0]['dividends']\n",
    "    \n",
    "#     add another weight to the last cell where i get the percentage of the year we've been in and multiply it by that\n",
    "\n",
    "    for i,r in ann_df[1:].iterrows():      \n",
    "#         i need to think about a better way to do this because right now\n",
    "#         it compares the wrong two pieces\n",
    "        if r['dividends'] < ann_df.loc[i-1]['dividends']:\n",
    "            mult = r['div_consistency_score']\n",
    "            div_perc = r['dividends']/highest_div\n",
    "            ann_df.at[i, 'div_consistency_score'] = mult * div_perc\n",
    "        else:\n",
    "            highest_div = r['dividends']\n",
    "    \n",
    "    return ann_df['div_consistency_score'].sum()"
   ]
  },
  {
   "cell_type": "code",
   "execution_count": 6,
   "metadata": {
    "ExecuteTime": {
     "end_time": "2020-09-12T17:53:41.202150Z",
     "start_time": "2020-09-12T17:53:41.196281Z"
    }
   },
   "outputs": [],
   "source": [
    "def get_all_consistancy_scores(stockList):\n",
    "    for index, row in stockList.iterrows():\n",
    "        stockObj = yf.Ticker(row['ticker'])\n",
    "        div_consis = get_div_consistency_score(stockObj)\n",
    "        stockList.at[index, 'div_consistency_score'] = div_consis\n",
    "    return stockList"
   ]
  },
  {
   "cell_type": "code",
   "execution_count": 7,
   "metadata": {
    "ExecuteTime": {
     "end_time": "2020-09-12T17:53:41.223187Z",
     "start_time": "2020-09-12T17:53:41.210324Z"
    }
   },
   "outputs": [],
   "source": [
    "def add_div_consistency_scores(df):\n",
    "    df['div_consistency_score'] = 0.0\n",
    "    df=get_all_consistancy_scores(df)\n",
    "    return df"
   ]
  },
  {
   "cell_type": "code",
   "execution_count": 8,
   "metadata": {
    "ExecuteTime": {
     "end_time": "2020-09-12T17:53:41.233052Z",
     "start_time": "2020-09-12T17:53:41.227613Z"
    }
   },
   "outputs": [],
   "source": [
    "def get_div_stocks(min_div = 5.0, min_consistency=.7):\n",
    "    df = dividend_detective_scrape.get_data()\n",
    "    \n",
    "    df= df[df['div_yield']>min_div]\n",
    "    \n",
    "    df = add_div_consistency_scores(df)\n",
    "    \n",
    "    df = df[df['div_consistency_score']>min_consistency]\n",
    "    df = df.sort_values('div_consistency_score', ascending=False)\n",
    "    \n",
    "    return df\n",
    "    "
   ]
  },
  {
   "cell_type": "code",
   "execution_count": 9,
   "metadata": {
    "ExecuteTime": {
     "end_time": "2020-09-12T17:55:47.712765Z",
     "start_time": "2020-09-12T17:53:41.236533Z"
    }
   },
   "outputs": [
    {
     "name": "stdout",
     "output_type": "stream",
     "text": [
      "CPU times: user 10.9 s, sys: 524 ms, total: 11.4 s\n",
      "Wall time: 58 s\n"
     ]
    }
   ],
   "source": [
    "%%time\n",
    "\n",
    "div_stocks = get_div_stocks()"
   ]
  },
  {
   "cell_type": "code",
   "execution_count": 10,
   "metadata": {
    "ExecuteTime": {
     "end_time": "2020-09-12T17:55:47.789107Z",
     "start_time": "2020-09-12T17:55:47.716666Z"
    }
   },
   "outputs": [
    {
     "data": {
      "text/html": [
       "<div>\n",
       "<style scoped>\n",
       "    .dataframe tbody tr th:only-of-type {\n",
       "        vertical-align: middle;\n",
       "    }\n",
       "\n",
       "    .dataframe tbody tr th {\n",
       "        vertical-align: top;\n",
       "    }\n",
       "\n",
       "    .dataframe thead th {\n",
       "        text-align: right;\n",
       "    }\n",
       "</style>\n",
       "<table border=\"1\" class=\"dataframe\">\n",
       "  <thead>\n",
       "    <tr style=\"text-align: right;\">\n",
       "      <th></th>\n",
       "      <th>ticker</th>\n",
       "      <th>name</th>\n",
       "      <th>annual_div</th>\n",
       "      <th>div_yield</th>\n",
       "      <th>div_consistency_score</th>\n",
       "    </tr>\n",
       "  </thead>\n",
       "  <tbody>\n",
       "  </tbody>\n",
       "</table>\n",
       "</div>"
      ],
      "text/plain": [
       "Empty DataFrame\n",
       "Columns: [ticker, name, annual_div, div_yield, div_consistency_score]\n",
       "Index: []"
      ]
     },
     "execution_count": 10,
     "metadata": {},
     "output_type": "execute_result"
    }
   ],
   "source": [
    "div_stocks"
   ]
  },
  {
   "cell_type": "code",
   "execution_count": null,
   "metadata": {},
   "outputs": [],
   "source": []
  }
 ],
 "metadata": {
  "kernelspec": {
   "display_name": "Python 3",
   "language": "python",
   "name": "python3"
  },
  "language_info": {
   "codemirror_mode": {
    "name": "ipython",
    "version": 3
   },
   "file_extension": ".py",
   "mimetype": "text/x-python",
   "name": "python",
   "nbconvert_exporter": "python",
   "pygments_lexer": "ipython3",
   "version": "3.8.5"
  }
 },
 "nbformat": 4,
 "nbformat_minor": 4
}
