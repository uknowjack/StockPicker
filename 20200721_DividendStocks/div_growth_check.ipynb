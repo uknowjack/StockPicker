{
 "cells": [
  {
   "cell_type": "code",
   "execution_count": 1,
   "metadata": {},
   "outputs": [
    {
     "data": {
      "text/plain": [
       "'\\nv1.1\\n\\n3/29/21\\n\\nAdd highest year dividend growth rate (10 y)\\nAdd Dividend growth rate\\ninspiration: https://www.youtube.com/watch?v=uWCqlo893tk\\n\\nadd stocks to the list that arent included like LOW\\n\\ninflation target = 2%\\n'"
      ]
     },
     "execution_count": 1,
     "metadata": {},
     "output_type": "execute_result"
    }
   ],
   "source": [
    "\"\"\"\n",
    "v1.2\n",
    "\n",
    "3/29/21\n",
    "\n",
    "inspiration: https://www.youtube.com/watch?v=uWCqlo893tk\n",
    "\n",
    "add stocks to the list that arent included like LOW\n",
    "\n",
    "inflation target = 2%\n",
    "\"\"\""
   ]
  },
  {
   "cell_type": "code",
   "execution_count": 2,
   "metadata": {
    "ExecuteTime": {
     "end_time": "2020-09-12T17:53:41.133180Z",
     "start_time": "2020-09-12T17:53:40.112902Z"
    }
   },
   "outputs": [
    {
     "name": "stdout",
     "output_type": "stream",
     "text": [
      "importing Jupyter notebook from dividend_detective_scrape.ipynb\n"
     ]
    }
   ],
   "source": [
    "import pandas as pd\n",
    "import numpy as np\n",
    "import import_ipynb\n",
    "import dividend_detective_scrape\n",
    "\n",
    "import yfinance as yf\n",
    "\n",
    "import datetime as dt\n",
    "\n",
    "from datetime import datetime\n",
    "\n",
    "from numpy import mean"
   ]
  },
  {
   "cell_type": "code",
   "execution_count": 3,
   "metadata": {
    "ExecuteTime": {
     "end_time": "2020-09-12T17:53:41.142550Z",
     "start_time": "2020-09-12T17:53:41.136354Z"
    }
   },
   "outputs": [],
   "source": [
    "def trim_div_data(stockObj):\n",
    "    actns = stockObj.actions\n",
    "    for i,r in actns.iterrows():\n",
    "        if r['Dividends'] > 0:\n",
    "            first_div_date = i\n",
    "            break\n",
    "\n",
    "    actns = actns.loc[first_div_date:]\n",
    "    return actns, first_div_date"
   ]
  },
  {
   "cell_type": "code",
   "execution_count": 4,
   "metadata": {
    "ExecuteTime": {
     "end_time": "2020-09-12T17:53:41.158936Z",
     "start_time": "2020-09-12T17:53:41.145393Z"
    }
   },
   "outputs": [],
   "source": [
    "def add_div_data_details(actns, first_div_date):\n",
    "    actns['days_since_first_div'] = (actns.index-first_div_date).days\n",
    "    actns['year'] = actns.index.year\n",
    "    \n",
    "    h = []\n",
    "    l = []\n",
    "    for i,r in actns.iterrows():\n",
    "        prices = stockObj.history(start=i,end = i+pd.DateOffset(1)).iloc[0]\n",
    "        h.append(prices['High'])\n",
    "        l.append(prices['Low'])\n",
    "\n",
    "    actns['Stock_High'] = h\n",
    "    actns['Stock_Low'] = l\n",
    "    \n",
    "    actns['day_div_yield'] = actns['Dividends']/actns['Stock_High']\n",
    "    return actns"
   ]
  },
  {
   "cell_type": "code",
   "execution_count": 5,
   "metadata": {
    "ExecuteTime": {
     "end_time": "2020-09-12T17:53:41.178502Z",
     "start_time": "2020-09-12T17:53:41.167215Z"
    }
   },
   "outputs": [],
   "source": [
    "def get_ind_div_data(stockObj):\n",
    "    df, first_div_date = trim_div_data(stockObj)\n",
    "    return add_div_data_details(df, first_div_date)"
   ]
  },
  {
   "cell_type": "code",
   "execution_count": 6,
   "metadata": {},
   "outputs": [
    {
     "data": {
      "text/plain": [
       "'\\nwork something below to get div growth rate\\n\\nparse out below to get the different functions of the below section so I can work on it\\n\\nthen learn how long it will take to beat other investments...\\n\\n'"
      ]
     },
     "execution_count": 6,
     "metadata": {},
     "output_type": "execute_result"
    }
   ],
   "source": [
    "\"\"\"\n",
    "\n",
    "then learn how long it will take to beat other investments...\n",
    "\n",
    "\"\"\""
   ]
  },
  {
   "cell_type": "code",
   "execution_count": 7,
   "metadata": {},
   "outputs": [],
   "source": [
    "def get_historical_div_info(stockObj):\n",
    "    df = stockObj.actions\n",
    "    df['year'] = df.index.year\n",
    "    df = df[df['Dividends']>0]\n",
    "    df = df.drop(columns=['Stock Splits'])\n",
    "    return df"
   ]
  },
  {
   "cell_type": "code",
   "execution_count": 8,
   "metadata": {},
   "outputs": [],
   "source": [
    "def group_divs_by_year(df):\n",
    "#     combine same year divs and rename column\n",
    "    ann_df = df.groupby(['year']).agg(\n",
    "        {'Dividends': np.sum}).rename(columns=\n",
    "        {'Dividends':'dividends'})\n",
    "    start_year = ann_df.index[0]\n",
    "    end_year = ann_df.index[len(ann_df)-1]+1\n",
    "    ann_df = ann_df.reindex(list(range(start_year,end_year)), fill_value=0)\n",
    "    return ann_df"
   ]
  },
  {
   "cell_type": "code",
   "execution_count": 9,
   "metadata": {},
   "outputs": [],
   "source": [
    "def add_consistancy_coeff(df):\n",
    "    consistancy_coeff = [1/(2**(x+1)) for x in range(len(df))][::-1]\n",
    "    year_progress = datetime.now().timetuple().tm_yday/365\n",
    "    consistancy_coeff[-1] = consistancy_coeff[-1]*year_progress\n",
    "    \n",
    "    df['div_consistency_score'] = consistancy_coeff\n",
    "    return df"
   ]
  },
  {
   "cell_type": "code",
   "execution_count": 10,
   "metadata": {},
   "outputs": [],
   "source": [
    "def calculate_div_consistency_score(df):\n",
    "    \n",
    "    df = add_consistancy_coeff(df)\n",
    "\n",
    "    # default highest div is the first div\n",
    "    highest_div = df.iloc[0]['dividends']\n",
    "    \n",
    "#     add another weight to the last cell where i get the percentage of the year we've been in and multiply it by that\n",
    "# exclude \n",
    "\n",
    "    for i,r in df[1:-1].iterrows():      \n",
    "#         i need to think about a better way to do this because right now\n",
    "#         it compares the wrong two pieces\n",
    "        if r['dividends'] < df.loc[i-1]['dividends']:\n",
    "            mult = r['div_consistency_score']\n",
    "            div_perc = r['dividends']/highest_div\n",
    "            df.at[i, 'div_consistency_score'] = mult * div_perc\n",
    "        else:\n",
    "            highest_div = r['dividends']\n",
    "    \n",
    "    return df['div_consistency_score'].sum()"
   ]
  },
  {
   "cell_type": "code",
   "execution_count": 11,
   "metadata": {},
   "outputs": [],
   "source": [
    "def structure_df(df, years):\n",
    "    df = df[:-years-3:-1]\n",
    "    df = df[1:]\n",
    "    return df"
   ]
  },
  {
   "cell_type": "code",
   "execution_count": 12,
   "metadata": {},
   "outputs": [],
   "source": [
    "def get_div_deltas(df):\n",
    "    \n",
    "    div_deltas = []\n",
    "        \n",
    "    for i,r in df[:-1].iterrows():\n",
    "        c = float(df.loc[i]['dividends'])\n",
    "        p = float(df.loc[i-1]['dividends'])\n",
    "\n",
    "        div_deltas.append((c-p)/p)\n",
    "    \n",
    "    return div_deltas"
   ]
  },
  {
   "cell_type": "code",
   "execution_count": 13,
   "metadata": {},
   "outputs": [],
   "source": [
    "def get_div_growth_rate(df, years):\n",
    "    if years >= len(df)-1:\n",
    "        return 0\n",
    "    else:\n",
    "        df = structure_df(df, years)\n",
    "        \n",
    "        div_deltas = get_div_deltas(df)\n",
    "        \n",
    "    return mean(div_deltas)\n",
    "            "
   ]
  },
  {
   "cell_type": "code",
   "execution_count": 14,
   "metadata": {
    "ExecuteTime": {
     "end_time": "2020-09-12T17:53:41.193997Z",
     "start_time": "2020-09-12T17:53:41.183545Z"
    }
   },
   "outputs": [],
   "source": [
    "def get_div_analysis(stockObj):\n",
    "\n",
    "    df = get_historical_div_info(stockObj)\n",
    "    ann_df = group_divs_by_year(df)\n",
    "    \n",
    "    div_consistacy_score = calculate_div_consistency_score(ann_df)\n",
    "    \n",
    "    div_growth_5y = get_div_growth_rate(ann_df,5)\n",
    "    div_growth_10y = get_div_growth_rate(ann_df,10)\n",
    "    div_growth_15y = get_div_growth_rate(ann_df,15)\n",
    "\n",
    "    return div_consistacy_score, div_growth_5y, div_growth_10y, div_growth_15y"
   ]
  },
  {
   "cell_type": "code",
   "execution_count": 15,
   "metadata": {
    "ExecuteTime": {
     "end_time": "2020-09-12T17:53:41.202150Z",
     "start_time": "2020-09-12T17:53:41.196281Z"
    }
   },
   "outputs": [],
   "source": [
    "def get_all_div_analysis(stockList):\n",
    "    for index, row in stockList.iterrows():\n",
    "        try:\n",
    "            stockObj = yf.Ticker(row['ticker'])\n",
    "            \n",
    "            div_analysis = get_div_analysis(stockObj)\n",
    "            \n",
    "            div_consis, div_growth_5y, div_growth_10y, div_growth_15y = get_div_analysis(stockObj)\n",
    "            \n",
    "        except:\n",
    "            div_consis = 0.0\n",
    "            div_growth_5y = 0.0\n",
    "            div_growth_10y = 0.0\n",
    "            div_growth_15y = 0.0\n",
    "            \n",
    "        stockList.at[index, 'div_consistency_score'] = div_consis\n",
    "        stockList.at[index, 'div_growth_5y'] = div_growth_5y\n",
    "        stockList.at[index, 'div_growth_10y'] = div_growth_10y\n",
    "        stockList.at[index, 'div_growth_15y'] = div_growth_15y\n",
    "        \n",
    "    return stockList"
   ]
  },
  {
   "cell_type": "code",
   "execution_count": 16,
   "metadata": {
    "ExecuteTime": {
     "end_time": "2020-09-12T17:53:41.223187Z",
     "start_time": "2020-09-12T17:53:41.210324Z"
    }
   },
   "outputs": [],
   "source": [
    "def add_div_analysis(df):\n",
    "    df['div_consistency_score'] = 0.0\n",
    "    df['div_growth_5y'] = 0.0\n",
    "    df['div_growth_10y'] = 0.0\n",
    "    df['div_growth_15y'] = 0.0\n",
    "    df = get_all_div_analysis(df)\n",
    "    return df"
   ]
  },
  {
   "cell_type": "code",
   "execution_count": 17,
   "metadata": {
    "ExecuteTime": {
     "end_time": "2020-09-12T17:53:41.233052Z",
     "start_time": "2020-09-12T17:53:41.227613Z"
    }
   },
   "outputs": [],
   "source": [
    "def get_div_stocks(min_div = 3, min_consistency=.5):\n",
    "    df = dividend_detective_scrape.get_data()\n",
    "    \n",
    "    df= df[df['div_yield']>min_div]\n",
    "    \n",
    "    df = add_div_analysis(df)   \n",
    "    \n",
    "    df = df[df['div_consistency_score']>min_consistency]\n",
    "    df = df.sort_values('div_consistency_score', ascending=False)\n",
    "    \n",
    "    return df\n",
    "    "
   ]
  },
  {
   "cell_type": "code",
   "execution_count": 18,
   "metadata": {
    "ExecuteTime": {
     "end_time": "2020-09-12T17:55:47.789107Z",
     "start_time": "2020-09-12T17:55:47.716666Z"
    }
   },
   "outputs": [],
   "source": [
    "df = get_div_stocks(min_div=13)"
   ]
  },
  {
   "cell_type": "code",
   "execution_count": 19,
   "metadata": {},
   "outputs": [
    {
     "data": {
      "text/html": [
       "<div>\n",
       "<style scoped>\n",
       "    .dataframe tbody tr th:only-of-type {\n",
       "        vertical-align: middle;\n",
       "    }\n",
       "\n",
       "    .dataframe tbody tr th {\n",
       "        vertical-align: top;\n",
       "    }\n",
       "\n",
       "    .dataframe thead th {\n",
       "        text-align: right;\n",
       "    }\n",
       "</style>\n",
       "<table border=\"1\" class=\"dataframe\">\n",
       "  <thead>\n",
       "    <tr style=\"text-align: right;\">\n",
       "      <th></th>\n",
       "      <th>ticker</th>\n",
       "      <th>name</th>\n",
       "      <th>annual_div</th>\n",
       "      <th>div_yield</th>\n",
       "      <th>div_consistency_score</th>\n",
       "      <th>div_growth_5y</th>\n",
       "      <th>div_growth_10y</th>\n",
       "      <th>div_growth_15y</th>\n",
       "    </tr>\n",
       "  </thead>\n",
       "  <tbody>\n",
       "    <tr>\n",
       "      <th>531</th>\n",
       "      <td>USAC</td>\n",
       "      <td>USA Compression Partners</td>\n",
       "      <td>2.10</td>\n",
       "      <td>14.0</td>\n",
       "      <td>0.618595</td>\n",
       "      <td>0.002410</td>\n",
       "      <td>0.000000</td>\n",
       "      <td>0.0</td>\n",
       "    </tr>\n",
       "    <tr>\n",
       "      <th>438</th>\n",
       "      <td>SHLX</td>\n",
       "      <td>Shell Midstream Partners</td>\n",
       "      <td>1.84</td>\n",
       "      <td>15.9</td>\n",
       "      <td>0.612735</td>\n",
       "      <td>0.227597</td>\n",
       "      <td>0.000000</td>\n",
       "      <td>0.0</td>\n",
       "    </tr>\n",
       "    <tr>\n",
       "      <th>35</th>\n",
       "      <td>AM</td>\n",
       "      <td>Antero Midstream</td>\n",
       "      <td>1.23</td>\n",
       "      <td>13.6</td>\n",
       "      <td>0.589298</td>\n",
       "      <td>0.000000</td>\n",
       "      <td>0.000000</td>\n",
       "      <td>0.0</td>\n",
       "    </tr>\n",
       "    <tr>\n",
       "      <th>215</th>\n",
       "      <td>DHT</td>\n",
       "      <td>DHT Holdings</td>\n",
       "      <td>1.08</td>\n",
       "      <td>18.1</td>\n",
       "      <td>0.539641</td>\n",
       "      <td>1.254263</td>\n",
       "      <td>1.030651</td>\n",
       "      <td>0.0</td>\n",
       "    </tr>\n",
       "    <tr>\n",
       "      <th>258</th>\n",
       "      <td>EURN</td>\n",
       "      <td>Euronav</td>\n",
       "      <td>1.66</td>\n",
       "      <td>17.8</td>\n",
       "      <td>0.530847</td>\n",
       "      <td>2.395685</td>\n",
       "      <td>0.000000</td>\n",
       "      <td>0.0</td>\n",
       "    </tr>\n",
       "  </tbody>\n",
       "</table>\n",
       "</div>"
      ],
      "text/plain": [
       "    ticker                      name  annual_div  div_yield  \\\n",
       "531   USAC  USA Compression Partners        2.10       14.0   \n",
       "438   SHLX  Shell Midstream Partners        1.84       15.9   \n",
       "35      AM          Antero Midstream        1.23       13.6   \n",
       "215    DHT              DHT Holdings        1.08       18.1   \n",
       "258   EURN                   Euronav        1.66       17.8   \n",
       "\n",
       "     div_consistency_score  div_growth_5y  div_growth_10y  div_growth_15y  \n",
       "531               0.618595       0.002410        0.000000             0.0  \n",
       "438               0.612735       0.227597        0.000000             0.0  \n",
       "35                0.589298       0.000000        0.000000             0.0  \n",
       "215               0.539641       1.254263        1.030651             0.0  \n",
       "258               0.530847       2.395685        0.000000             0.0  "
      ]
     },
     "execution_count": 19,
     "metadata": {},
     "output_type": "execute_result"
    }
   ],
   "source": [
    "df"
   ]
  },
  {
   "cell_type": "code",
   "execution_count": null,
   "metadata": {},
   "outputs": [],
   "source": []
  }
 ],
 "metadata": {
  "kernelspec": {
   "display_name": "Python 3",
   "language": "python",
   "name": "python3"
  },
  "language_info": {
   "codemirror_mode": {
    "name": "ipython",
    "version": 3
   },
   "file_extension": ".py",
   "mimetype": "text/x-python",
   "name": "python",
   "nbconvert_exporter": "python",
   "pygments_lexer": "ipython3",
   "version": "3.8.5"
  }
 },
 "nbformat": 4,
 "nbformat_minor": 4
}
